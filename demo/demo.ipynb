{
  "cells": [
    {
      "cell_type": "code",
      "source": [
        "import pandas as pd\n",
        "from matplotlib import pyplot as plt\n",
        "import numpy as np\n",
        "from EngbertMicrosaccadeToolbox import microsac_detection"
      ],
      "outputs": [],
      "execution_count": 12,
      "metadata": {
        "collapsed": true,
        "jupyter": {
          "source_hidden": false,
          "outputs_hidden": false
        },
        "nteract": {
          "transient": {
            "deleting": false
          }
        },
        "execution": {
          "iopub.status.busy": "2022-11-16T16:18:57.429Z",
          "iopub.execute_input": "2022-11-16T16:18:57.433Z",
          "iopub.status.idle": "2022-11-16T16:18:57.441Z",
          "shell.execute_reply": "2022-11-16T16:18:57.448Z"
        }
      }
    },
    {
      "cell_type": "code",
      "source": [
        "# Set parameters\n",
        "SAMPLING = 500\n",
        "MINDUR = 3\n",
        "VFAC = 5"
      ],
      "outputs": [],
      "execution_count": 13,
      "metadata": {
        "collapsed": true,
        "jupyter": {
          "source_hidden": false,
          "outputs_hidden": false
        },
        "nteract": {
          "transient": {
            "deleting": false
          }
        },
        "execution": {
          "iopub.status.busy": "2022-11-16T16:18:57.544Z",
          "iopub.execute_input": "2022-11-16T16:18:57.551Z",
          "iopub.status.idle": "2022-11-16T16:18:57.559Z",
          "shell.execute_reply": "2022-11-16T16:18:57.566Z"
        }
      }
    },
    {
      "cell_type": "code",
      "source": [
        "# Read raw data (ASCII; subject 01, trial 005)\n",
        "d = pd.read_csv(\"data/f01.005.dat\", sep=\"\\t\", header=None, names=[\"t\", \"x_l\", \"y_l\", \"x_r\", \"y_r\"])\n",
        "d.head()\n",
        "d = d.loc[3000:4499]\n",
        "d.head()"
      ],
      "outputs": [
        {
          "output_type": "execute_result",
          "execution_count": 14,
          "data": {
            "text/plain": "           t      x_l      y_l      x_r      y_r\n3000  6000.0  0.01188  0.60588 -0.21384  0.41976\n3001  6002.0  0.02376  0.61380 -0.20988  0.41580\n3002  6004.0  0.02772  0.62172 -0.19800  0.41976\n3003  6006.0  0.03564  0.71280 -0.20196  0.41184\n3004  6008.0  0.06336  0.64152 -0.20196  0.42372",
            "text/html": "<div>\n<style scoped>\n    .dataframe tbody tr th:only-of-type {\n        vertical-align: middle;\n    }\n\n    .dataframe tbody tr th {\n        vertical-align: top;\n    }\n\n    .dataframe thead th {\n        text-align: right;\n    }\n</style>\n<table border=\"1\" class=\"dataframe\">\n  <thead>\n    <tr style=\"text-align: right;\">\n      <th></th>\n      <th>t</th>\n      <th>x_l</th>\n      <th>y_l</th>\n      <th>x_r</th>\n      <th>y_r</th>\n    </tr>\n  </thead>\n  <tbody>\n    <tr>\n      <th>3000</th>\n      <td>6000.0</td>\n      <td>0.01188</td>\n      <td>0.60588</td>\n      <td>-0.21384</td>\n      <td>0.41976</td>\n    </tr>\n    <tr>\n      <th>3001</th>\n      <td>6002.0</td>\n      <td>0.02376</td>\n      <td>0.61380</td>\n      <td>-0.20988</td>\n      <td>0.41580</td>\n    </tr>\n    <tr>\n      <th>3002</th>\n      <td>6004.0</td>\n      <td>0.02772</td>\n      <td>0.62172</td>\n      <td>-0.19800</td>\n      <td>0.41976</td>\n    </tr>\n    <tr>\n      <th>3003</th>\n      <td>6006.0</td>\n      <td>0.03564</td>\n      <td>0.71280</td>\n      <td>-0.20196</td>\n      <td>0.41184</td>\n    </tr>\n    <tr>\n      <th>3004</th>\n      <td>6008.0</td>\n      <td>0.06336</td>\n      <td>0.64152</td>\n      <td>-0.20196</td>\n      <td>0.42372</td>\n    </tr>\n  </tbody>\n</table>\n</div>"
          },
          "metadata": {}
        }
      ],
      "execution_count": 14,
      "metadata": {
        "collapsed": true,
        "jupyter": {
          "source_hidden": false,
          "outputs_hidden": false
        },
        "nteract": {
          "transient": {
            "deleting": false
          }
        },
        "execution": {
          "iopub.status.busy": "2022-11-16T16:18:57.713Z",
          "iopub.execute_input": "2022-11-16T16:18:57.717Z",
          "iopub.status.idle": "2022-11-16T16:18:57.726Z",
          "shell.execute_reply": "2022-11-16T16:18:57.729Z"
        }
      }
    },
    {
      "cell_type": "code",
      "source": [
        "np.asarray(d.x_r).shape"
      ],
      "outputs": [
        {
          "output_type": "execute_result",
          "execution_count": 15,
          "data": {
            "text/plain": "(1500,)"
          },
          "metadata": {}
        }
      ],
      "execution_count": 15,
      "metadata": {
        "collapsed": true,
        "jupyter": {
          "source_hidden": false,
          "outputs_hidden": false
        },
        "nteract": {
          "transient": {
            "deleting": false
          }
        },
        "execution": {
          "iopub.status.busy": "2022-11-16T16:18:58.064Z",
          "iopub.execute_input": "2022-11-16T16:18:58.068Z",
          "iopub.status.idle": "2022-11-16T16:18:58.077Z",
          "shell.execute_reply": "2022-11-16T16:18:58.083Z"
        }
      }
    },
    {
      "cell_type": "code",
      "source": [
        "aa = np.vstack([np.asarray(d.x_r), np.asarray(d.y_r)]).T"
      ],
      "outputs": [],
      "execution_count": 16,
      "metadata": {
        "collapsed": true,
        "jupyter": {
          "source_hidden": false,
          "outputs_hidden": false
        },
        "nteract": {
          "transient": {
            "deleting": false
          }
        },
        "execution": {
          "iopub.status.busy": "2022-11-16T16:19:00.575Z",
          "iopub.execute_input": "2022-11-16T16:19:00.580Z",
          "iopub.status.idle": "2022-11-16T16:19:00.590Z",
          "shell.execute_reply": "2022-11-16T16:19:00.597Z"
        }
      }
    },
    {
      "cell_type": "code",
      "source": [
        "bb = microsac_detection.vecvel(aa, sampling=500)"
      ],
      "outputs": [
        {
          "output_type": "stream",
          "name": "stdout",
          "text": [
            "(1500, 2)\n"
          ]
        }
      ],
      "execution_count": 18,
      "metadata": {
        "collapsed": true,
        "jupyter": {
          "source_hidden": false,
          "outputs_hidden": false
        },
        "nteract": {
          "transient": {
            "deleting": false
          }
        },
        "execution": {
          "iopub.status.busy": "2022-11-16T16:19:24.794Z",
          "iopub.execute_input": "2022-11-16T16:19:24.799Z",
          "iopub.status.idle": "2022-11-16T16:19:24.868Z",
          "shell.execute_reply": "2022-11-16T16:19:24.872Z"
        }
      }
    },
    {
      "cell_type": "code",
      "source": [
        "np.median(bb, axis=0)"
      ],
      "outputs": [
        {
          "output_type": "execute_result",
          "execution_count": 23,
          "data": {
            "text/plain": "array([ 0.  , -0.33])"
          },
          "metadata": {}
        }
      ],
      "execution_count": 23,
      "metadata": {
        "collapsed": true,
        "jupyter": {
          "source_hidden": false,
          "outputs_hidden": false
        },
        "nteract": {
          "transient": {
            "deleting": false
          }
        },
        "execution": {
          "iopub.status.busy": "2022-11-16T16:20:05.936Z",
          "iopub.execute_input": "2022-11-16T16:20:05.941Z",
          "iopub.status.idle": "2022-11-16T16:20:05.953Z",
          "shell.execute_reply": "2022-11-16T16:20:05.957Z"
        }
      }
    },
    {
      "cell_type": "code",
      "source": [
        "bb\n"
      ],
      "outputs": [
        {
          "output_type": "execute_result",
          "execution_count": 26,
          "data": {
            "text/plain": "array([[ 0.00000000e+00,  0.00000000e+00],\n       [ 3.96000000e+00,  0.00000000e+00],\n       [ 1.65000000e+00, -4.62592927e-15],\n       ...,\n       [-1.65000000e+00,  2.64000000e+00],\n       [-9.90000000e-01,  5.94000000e+00],\n       [ 0.00000000e+00,  0.00000000e+00]])"
          },
          "metadata": {}
        }
      ],
      "execution_count": 26,
      "metadata": {
        "collapsed": true,
        "jupyter": {
          "source_hidden": false,
          "outputs_hidden": false
        },
        "nteract": {
          "transient": {
            "deleting": false
          }
        },
        "execution": {
          "iopub.status.busy": "2022-11-16T16:23:16.105Z",
          "iopub.execute_input": "2022-11-16T16:23:16.111Z",
          "iopub.status.idle": "2022-11-16T16:23:16.130Z",
          "shell.execute_reply": "2022-11-16T16:23:16.134Z"
        }
      }
    },
    {
      "cell_type": "code",
      "source": [
        "msd = np.sqrt(np.median((bb-np.median(bb, axis=0))**2, axis=0))"
      ],
      "outputs": [],
      "execution_count": 32,
      "metadata": {
        "collapsed": true,
        "jupyter": {
          "source_hidden": false,
          "outputs_hidden": false
        },
        "nteract": {
          "transient": {
            "deleting": false
          }
        },
        "execution": {
          "iopub.status.busy": "2022-11-16T16:27:15.229Z",
          "iopub.execute_input": "2022-11-16T16:27:15.234Z",
          "iopub.status.idle": "2022-11-16T16:27:15.248Z",
          "shell.execute_reply": "2022-11-16T16:27:15.252Z"
        }
      }
    },
    {
      "cell_type": "code",
      "source": [
        "radius = VFAC * msd"
      ],
      "outputs": [],
      "execution_count": 33,
      "metadata": {
        "collapsed": true,
        "jupyter": {
          "source_hidden": false,
          "outputs_hidden": false
        },
        "nteract": {
          "transient": {
            "deleting": false
          }
        },
        "execution": {
          "iopub.status.busy": "2022-11-16T16:27:16.530Z",
          "iopub.execute_input": "2022-11-16T16:27:16.534Z",
          "iopub.status.idle": "2022-11-16T16:27:16.543Z",
          "shell.execute_reply": "2022-11-16T16:27:16.547Z"
        }
      }
    },
    {
      "cell_type": "code",
      "source": [
        "test = ((bb/radius)**2).sum(axis=1)\n",
        "test"
      ],
      "outputs": [
        {
          "output_type": "execute_result",
          "execution_count": 37,
          "data": {
            "text/plain": "array([0.        , 0.2304    , 0.04      , ..., 0.11111111, 0.3744    ,\n       0.        ])"
          },
          "metadata": {}
        }
      ],
      "execution_count": 37,
      "metadata": {
        "collapsed": true,
        "jupyter": {
          "source_hidden": false,
          "outputs_hidden": false
        },
        "nteract": {
          "transient": {
            "deleting": false
          }
        },
        "execution": {
          "iopub.status.busy": "2022-11-16T16:28:59.383Z",
          "iopub.execute_input": "2022-11-16T16:28:59.388Z",
          "iopub.status.idle": "2022-11-16T16:28:59.403Z",
          "shell.execute_reply": "2022-11-16T16:28:59.407Z"
        }
      }
    },
    {
      "cell_type": "code",
      "source": [
        "np.where(test>1)[0].shape"
      ],
      "outputs": [
        {
          "output_type": "execute_result",
          "execution_count": 47,
          "data": {
            "text/plain": "(41,)"
          },
          "metadata": {}
        }
      ],
      "execution_count": 47,
      "metadata": {
        "collapsed": true,
        "jupyter": {
          "source_hidden": false,
          "outputs_hidden": false
        },
        "nteract": {
          "transient": {
            "deleting": false
          }
        },
        "execution": {
          "iopub.status.busy": "2022-11-16T16:37:59.189Z",
          "iopub.execute_input": "2022-11-16T16:37:59.195Z",
          "iopub.status.idle": "2022-11-16T16:37:59.207Z",
          "shell.execute_reply": "2022-11-16T16:37:59.213Z"
        }
      }
    },
    {
      "cell_type": "code",
      "source": [
        "radius"
      ],
      "outputs": [
        {
          "output_type": "execute_result",
          "execution_count": 34,
          "data": {
            "text/plain": "array([8.25, 9.9 ])"
          },
          "metadata": {}
        }
      ],
      "execution_count": 34,
      "metadata": {
        "collapsed": true,
        "jupyter": {
          "source_hidden": false,
          "outputs_hidden": false
        },
        "nteract": {
          "transient": {
            "deleting": false
          }
        },
        "execution": {
          "iopub.status.busy": "2022-11-16T16:27:20.220Z",
          "iopub.execute_input": "2022-11-16T16:27:20.224Z",
          "iopub.status.idle": "2022-11-16T16:27:20.241Z",
          "shell.execute_reply": "2022-11-16T16:27:20.247Z"
        }
      }
    },
    {
      "cell_type": "code",
      "source": [
        "w = np.array([[1,2,3], [1,2,3]]).T\n",
        "w.cumsum(axis=0)"
      ],
      "outputs": [
        {
          "output_type": "execute_result",
          "execution_count": 13,
          "data": {
            "text/plain": "array([[1, 1],\n       [3, 3],\n       [6, 6]])"
          },
          "metadata": {}
        }
      ],
      "execution_count": 13,
      "metadata": {
        "collapsed": true,
        "jupyter": {
          "source_hidden": false,
          "outputs_hidden": false
        },
        "nteract": {
          "transient": {
            "deleting": false
          }
        },
        "execution": {
          "iopub.status.busy": "2022-11-16T15:53:29.012Z",
          "iopub.execute_input": "2022-11-16T15:53:29.015Z",
          "iopub.status.idle": "2022-11-16T15:53:29.025Z",
          "shell.execute_reply": "2022-11-16T15:53:29.028Z"
        }
      }
    },
    {
      "cell_type": "code",
      "source": [
        "aa[0:10]"
      ],
      "outputs": [
        {
          "output_type": "execute_result",
          "execution_count": 68,
          "data": {
            "text/plain": "array([[-0.21384,  0.41976],\n       [-0.20988,  0.4158 ],\n       [-0.198  ,  0.41976],\n       [-0.20196,  0.41184],\n       [-0.20196,  0.42372],\n       [-0.20196,  0.42372],\n       [-0.20196,  0.42372],\n       [-0.19008,  0.42372],\n       [-0.18612,  0.41976],\n       [-0.15444,  0.4158 ]])"
          },
          "metadata": {}
        }
      ],
      "execution_count": 68,
      "metadata": {
        "collapsed": true,
        "jupyter": {
          "source_hidden": false,
          "outputs_hidden": false
        },
        "nteract": {
          "transient": {
            "deleting": false
          }
        },
        "execution": {
          "iopub.status.busy": "2022-11-16T15:11:02.725Z",
          "iopub.execute_input": "2022-11-16T15:11:02.728Z",
          "iopub.status.idle": "2022-11-16T15:11:02.739Z",
          "shell.execute_reply": "2022-11-16T15:11:02.742Z"
        }
      }
    },
    {
      "cell_type": "code",
      "source": [
        "def vecvel(x, sampling):\n",
        "  N, _ = x.shape\n",
        "  v = np.zeros((N, 2))\n",
        "  print(v.shape)\n",
        "  v[2:(N-2),] = SAMPLING/6*(x[4:N,] + x[3:(N-1),] - x[1:(N-3),] - x[0:(N-4),])\n",
        "  v[1,] = SAMPLING/2*(x[2,] - x[0,])\n",
        "  v[(N-2),] = SAMPLING/2*(x[N-1,] - x[(N-3),])  \n",
        "  return v\n",
        "  "
      ],
      "outputs": [],
      "execution_count": 109,
      "metadata": {
        "collapsed": true,
        "jupyter": {
          "source_hidden": false,
          "outputs_hidden": false
        },
        "nteract": {
          "transient": {
            "deleting": false
          }
        },
        "execution": {
          "iopub.status.busy": "2022-11-16T15:31:50.996Z",
          "iopub.execute_input": "2022-11-16T15:31:51.001Z",
          "iopub.status.idle": "2022-11-16T15:31:51.007Z",
          "shell.execute_reply": "2022-11-16T15:31:51.011Z"
        }
      }
    },
    {
      "cell_type": "code",
      "source": [
        "N, _ = aa.shape\n",
        "aa[4:N-1,].shape\n",
        "aa[3:N-2,].shape\n",
        "aa[1:(N-4),].shape\n",
        "aa[0:(N-5),].shape"
      ],
      "outputs": [
        {
          "output_type": "execute_result",
          "execution_count": 110,
          "data": {
            "text/plain": "(1495, 2)"
          },
          "metadata": {}
        }
      ],
      "execution_count": 110,
      "metadata": {
        "collapsed": true,
        "jupyter": {
          "source_hidden": false,
          "outputs_hidden": false
        },
        "nteract": {
          "transient": {
            "deleting": false
          }
        },
        "execution": {
          "iopub.status.busy": "2022-11-16T15:31:51.767Z",
          "iopub.execute_input": "2022-11-16T15:31:51.771Z",
          "iopub.status.idle": "2022-11-16T15:31:51.781Z",
          "shell.execute_reply": "2022-11-16T15:31:51.786Z"
        }
      }
    },
    {
      "cell_type": "code",
      "source": [
        "aa[N-1,1]"
      ],
      "outputs": [
        {
          "output_type": "execute_result",
          "execution_count": 111,
          "data": {
            "text/plain": "-0.02376"
          },
          "metadata": {}
        }
      ],
      "execution_count": 111,
      "metadata": {
        "collapsed": true,
        "jupyter": {
          "source_hidden": false,
          "outputs_hidden": false
        },
        "nteract": {
          "transient": {
            "deleting": false
          }
        },
        "execution": {
          "iopub.status.busy": "2022-11-16T15:32:03.304Z",
          "iopub.execute_input": "2022-11-16T15:32:03.308Z",
          "iopub.status.idle": "2022-11-16T15:32:03.320Z",
          "shell.execute_reply": "2022-11-16T15:32:03.324Z"
        }
      }
    },
    {
      "cell_type": "code",
      "source": [
        "aa[4:N-1,]"
      ],
      "outputs": [
        {
          "output_type": "execute_result",
          "execution_count": 112,
          "data": {
            "text/plain": "array([[-0.20196,  0.42372],\n       [-0.20196,  0.42372],\n       [-0.20196,  0.42372],\n       ...,\n       [-0.06336, -0.04356],\n       [-0.07524, -0.04752],\n       [-0.08316, -0.0396 ]])"
          },
          "metadata": {}
        }
      ],
      "execution_count": 112,
      "metadata": {
        "collapsed": true,
        "jupyter": {
          "source_hidden": false,
          "outputs_hidden": false
        },
        "nteract": {
          "transient": {
            "deleting": false
          }
        },
        "execution": {
          "iopub.status.busy": "2022-11-16T15:32:03.489Z",
          "iopub.execute_input": "2022-11-16T15:32:03.493Z",
          "iopub.status.idle": "2022-11-16T15:32:03.502Z",
          "shell.execute_reply": "2022-11-16T15:32:03.508Z"
        }
      }
    },
    {
      "cell_type": "code",
      "source": [
        "aa = np.array([[1,2,3,4, 5, 6],[1,2,3,4,5, 6]]).T\n",
        "aa.shape"
      ],
      "outputs": [
        {
          "output_type": "execute_result",
          "execution_count": 113,
          "data": {
            "text/plain": "(6, 2)"
          },
          "metadata": {}
        }
      ],
      "execution_count": 113,
      "metadata": {
        "collapsed": true,
        "jupyter": {
          "source_hidden": false,
          "outputs_hidden": false
        },
        "nteract": {
          "transient": {
            "deleting": false
          }
        },
        "execution": {
          "iopub.status.busy": "2022-11-16T15:32:03.779Z",
          "iopub.execute_input": "2022-11-16T15:32:03.782Z",
          "iopub.status.idle": "2022-11-16T15:32:03.792Z",
          "shell.execute_reply": "2022-11-16T15:32:03.795Z"
        }
      }
    },
    {
      "cell_type": "code",
      "source": [],
      "outputs": [],
      "execution_count": null,
      "metadata": {
        "collapsed": true,
        "jupyter": {
          "source_hidden": false,
          "outputs_hidden": false
        },
        "nteract": {
          "transient": {
            "deleting": false
          }
        }
      }
    },
    {
      "cell_type": "code",
      "source": [],
      "outputs": [],
      "execution_count": null,
      "metadata": {
        "collapsed": true,
        "jupyter": {
          "source_hidden": false,
          "outputs_hidden": false
        },
        "nteract": {
          "transient": {
            "deleting": false
          }
        }
      }
    }
  ],
  "metadata": {
    "kernel_info": {
      "name": "sawenv"
    },
    "language_info": {
      "name": "python",
      "version": "3.10.6",
      "mimetype": "text/x-python",
      "codemirror_mode": {
        "name": "ipython",
        "version": 3
      },
      "pygments_lexer": "ipython3",
      "nbconvert_exporter": "python",
      "file_extension": ".py"
    },
    "kernelspec": {
      "argv": [
        "/Users/lisa/Documents/virtual_envs/sawenv/bin/python3",
        "-m",
        "ipykernel_launcher",
        "-f",
        "{connection_file}"
      ],
      "display_name": "sawenv",
      "language": "python",
      "metadata": {
        "debugger": true
      },
      "name": "sawenv"
    },
    "nteract": {
      "version": "0.28.0"
    }
  },
  "nbformat": 4,
  "nbformat_minor": 0
}